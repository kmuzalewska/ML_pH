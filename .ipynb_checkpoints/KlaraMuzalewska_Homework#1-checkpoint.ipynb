{
 "cells": [
  {
   "cell_type": "code",
   "execution_count": 1,
   "metadata": {},
   "outputs": [],
   "source": [
    "import numpy as np\n",
    "import matplotlib.pyplot as plt\n",
    "from scipy.spatial.distance import cdist\n",
    "from scipy.misc import factorial\n",
    "import random\n",
    "%matplotlib inline"
   ]
  },
  {
   "cell_type": "code",
   "execution_count": 2,
   "metadata": {},
   "outputs": [
    {
     "name": "stdout",
     "output_type": "stream",
     "text": [
      "(210, 2)\n"
     ]
    },
    {
     "data": {
      "text/plain": [
       "[<matplotlib.lines.Line2D at 0x7f6b9f2e44e0>]"
      ]
     },
     "execution_count": 2,
     "metadata": {},
     "output_type": "execute_result"
    },
    {
     "data": {
      "image/png": "[encoded data removed]",
      "text/plain": [
       "<matplotlib.figure.Figure at 0x7f6bd28c6cc0>"
      ]
     },
     "metadata": {},
     "output_type": "display_data"
    }
   ],
   "source": [
    "#this fragment is only for testing clustering method. it is \n",
    "\n",
    "k = 2\n",
    "sizes = [100, 30, 80]\n",
    "\n",
    "m = [None]*len(sizes)\n",
    "m[0] = [ 9, 9] #[0, 1, 3, 4, 1]\n",
    "m[1] = [ 1, 7] #[0,-1, 3, 1, 3]\n",
    "m[2] = [ 7, 1] #[5, 0, 0, 1,-1]\n",
    "\n",
    "cm = []\n",
    "for _ in range(len(sizes)):\n",
    "    cm.append(np.random.uniform(-1, 1, (k, k)))\n",
    "    cm[-1] = (cm[-1] @ cm[-1].T + np.identity(k))/2\n",
    "\n",
    "clusters = []\n",
    "for i in range(len(sizes)):\n",
    "    clusters.append(np.random.multivariate_normal(m[i], cm[i], sizes[i]))\n",
    "\n",
    "x = np.concatenate(clusters)\n",
    "y = np.zeros([len(sizes), np.sum(sizes)])\n",
    "_y = []\n",
    "for i in range(len(sizes)):\n",
    "    _y += [i]*sizes[i]\n",
    "y[np.array(_y), np.arange(np.sum(sizes))] = 1\n",
    "perm = np.random.permutation(x.shape[0])\n",
    "x = x[perm]\n",
    "y = y.T[perm].T\n",
    "print(x.shape)\n",
    "\n",
    "plt.plot(x[:,0], x[:,1], 'o')"
   ]
  },
  {
   "cell_type": "code",
   "execution_count": 3,
   "metadata": {},
   "outputs": [],
   "source": [
    "class ProbabilisticCClustering(object):\n",
    "    def __init__(self):\n",
    "        self.m=2\n",
    "        self.m_assignation = None\n",
    "    \n",
    "    def initialize(self,data):\n",
    "        self.m_centers=[]\n",
    "        self.shape = data.shape[1]\n",
    "        for i in range(self.cluster_nr):\n",
    "            self.m_centers.append(np.random.uniform(data.min(0), data.max(0)))\n",
    "        self.m_centers = np.array(self.m_centers)\n",
    "        self.m_assignation = np.random.uniform(0, 1, (self.cluster_nr, len(data)))\n",
    "        self.A = self.matrix(data)\n",
    "        \n",
    "    def fit(self, data, cluster_nr):\n",
    "        data = np.array(data)\n",
    "        self.cluster_nr = cluster_nr\n",
    "        self.initialize(data)\n",
    "        for j in range(10):\n",
    "            for k in range(len(data)):\n",
    "                for i in range(self.cluster_nr):\n",
    "                    self.m_assignation[i,k] = self.assignation(data[k], i, data)\n",
    "            self.A = self.matrix(data)\n",
    "            for i in range(self.cluster_nr):\n",
    "                self.m_centers[i] = self.new_center(i, data)\n",
    "            print(self.m_centers,end='\\r')\n",
    "        return self.m_assignation\n",
    "    \n",
    "    def assignation(self, k, i, data):  \n",
    "        counter=self.mahalanobis_distance(k, self.m_centers[i])\n",
    "        fractor = (counter/self.pos_distribution(i, data)).item(0)**(2/(self.m-1))\n",
    "        return 1/(1+fractor)\n",
    "    \n",
    "    def new_center(self, i, data):\n",
    "        counter=0\n",
    "        denominator=0\n",
    "        for k in range(len(data)):\n",
    "            counter+= (self.m_assignation[i,k]**self.m)*data[k]\n",
    "            denominator+= (self.m_assignation[i,k]**self.m)\n",
    "        return counter/denominator\n",
    "            \n",
    "    def pos_distribution(self, i,data):\n",
    "        counter=0\n",
    "        denominator=0\n",
    "        for k in range(len(data)):\n",
    "            counter+= ((self.m_assignation[i,k])**(self.m))*(self.mahalanobis_distance(data[k],self.m_centers[i])**2)\n",
    "            denominator+=(self.m_assignation[i,k])**(self.m)\n",
    "        return counter/denominator\n",
    "    \n",
    "    def matrix(self, data):\n",
    "        A = [0] * self.m_assignation.shape[1]\n",
    "        for i in range(self.m_assignation.shape[1]):\n",
    "            A[i] = np.cov(data, rowvar=False)\n",
    "        return A\n",
    "    \n",
    "    def mahalanobis_distance(self, x,y): #A - metryka\n",
    "        tmp = x-y\n",
    "        A = np.linalg.inv(self.A)\n",
    "        return (tmp @ A @ tmp).item(0)**0.5 \n",
    "    \n",
    "    def fuzzy_assignation(self, k, i):  \n",
    "        u_ik=0\n",
    "        counter = self.mahalanobis_distance(k, i)\n",
    "        for j in self.m_centers:\n",
    "            denominator = self.mahalanobis_distance(k, j)\n",
    "            fractor = (counter/denominator)**(2/(self.m-1))\n",
    "            u_ik+=fractor\n",
    "        return (1/u_ikdistance)"
   ]
  },
  {
   "cell_type": "code",
   "execution_count": null,
   "metadata": {},
   "outputs": [
    {
     "name": "stdout",
     "output_type": "stream",
     "text": [
      "[[ 6.9028609   5.98565429]\n",
      " [ 6.84479927  5.56759203]\n",
      "[[ 7.90185596  6.04176057]]\n",
      " [ 7.82204202  5.72841417]\n",
      "[[ 8.36859444  6.70556861]]\n",
      " [ 8.24971229  6.28893456]\n",
      "[[ 8.77539231  7.87813445]]\n",
      " [ 8.61877561  7.35471034]\n",
      "[[ 8.97169078  8.37782012]]\n",
      " [ 8.93110773  8.29883305]\n",
      "[[ 9.03058531  8.44899484]]\n",
      " [ 9.02310272  8.47333905]\n",
      " [ 9.00530574  8.42940618]]\r"
     ]
    }
   ],
   "source": [
    "prob= ProbabilisticCClustering()\n",
    "prob.fit(x, 3)"
   ]
  },
  {
   "cell_type": "code",
   "execution_count": null,
   "metadata": {},
   "outputs": [],
   "source": [
    "prob.m_centers"
   ]
  },
  {
   "cell_type": "code",
   "execution_count": null,
   "metadata": {},
   "outputs": [],
   "source": []
  }
 ],
 "metadata": {
  "kernelspec": {
   "display_name": "Python 3",
   "language": "python",
   "name": "python3"
  },
  "language_info": {
   "codemirror_mode": {
    "name": "ipython",
    "version": 3
   },
   "file_extension": ".py",
   "mimetype": "text/x-python",
   "name": "python",
   "nbconvert_exporter": "python",
   "pygments_lexer": "ipython3",
   "version": "3.6.3"
  }
 },
 "nbformat": 4,
 "nbformat_minor": 2
}
